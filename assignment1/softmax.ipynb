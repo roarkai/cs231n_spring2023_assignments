{
 "cells": [
  {
   "cell_type": "code",
   "execution_count": 1,
   "id": "149d5b7e",
   "metadata": {
    "ExecuteTime": {
     "end_time": "2023-10-03T05:14:04.553289Z",
     "start_time": "2023-10-03T05:14:04.429452Z"
    }
   },
   "outputs": [
    {
     "name": "stdout",
     "output_type": "stream",
     "text": [
      "/home/roark/Documents/Assignments/cs231n spring2023/assignment1/cs231n/datasets\n",
      "/home/roark/Documents/Assignments/cs231n spring2023/assignment1\n"
     ]
    }
   ],
   "source": [
    "# This mounts your Google Drive to the Colab VM.\n",
    "# from google.colab import drive\n",
    "# drive.mount('/content/drive')\n",
    "\n",
    "# TODO: Enter the foldername in your Drive where you have saved the unzipped\n",
    "# assignment folder, e.g. 'cs231n/assignments/assignment1/'\n",
    "FOLDERNAME = '/home/roark/Documents/Assignments/cs231n\\ spring2023/assignment1'\n",
    "assert FOLDERNAME is not None, \"[!] Enter the foldername.\"\n",
    "\n",
    "# Now that we've mounted your Drive, this ensures that\n",
    "# the Python interpreter of the Colab VM can load\n",
    "# python files from within it.\n",
    "import sys\n",
    "# sys.path.append('/content/drive/My Drive/{}'.format(FOLDERNAME))\n",
    "sys.path.append(FOLDERNAME)\n",
    "\n",
    "# This downloads the CIFAR-10 dataset to your Drive\n",
    "# if it doesn't already exist.\n",
    "# %cd /content/drive/My\\ Drive/$FOLDERNAME/cs231n/datasets/\n",
    "# !bash get_datasets.sh\n",
    "# %cd /content/drive/My\\ Drive/$FOLDERNAME\n",
    "%cd $FOLDERNAME/cs231n/datasets/\n",
    "!bash get_datasets.sh\n",
    "%cd $FOLDERNAME"
   ]
  },
  {
   "cell_type": "markdown",
   "id": "5fdfc27e",
   "metadata": {
    "tags": [
     "pdf-title"
    ]
   },
   "source": [
    "# Softmax exercise\n",
    "\n",
    "*Complete and hand in this completed worksheet (including its outputs and any supporting code outside of the worksheet) with your assignment submission. For more details see the [assignments page](http://vision.stanford.edu/teaching/cs231n/assignments.html) on the course website.*\n",
    "\n",
    "This exercise is analogous to the SVM exercise. You will:\n",
    "\n",
    "- implement a fully-vectorized **loss function** for the Softmax classifier\n",
    "- implement the fully-vectorized expression for its **analytic gradient**\n",
    "- **check your implementation** with numerical gradient\n",
    "- use a validation set to **tune the learning rate and regularization** strength\n",
    "- **optimize** the loss function with **SGD**\n",
    "- **visualize** the final learned weights\n"
   ]
  },
  {
   "cell_type": "code",
   "execution_count": 2,
   "id": "ca6cf2d4",
   "metadata": {
    "ExecuteTime": {
     "end_time": "2023-10-03T05:14:04.971282Z",
     "start_time": "2023-10-03T05:14:04.555538Z"
    },
    "tags": [
     "pdf-ignore"
    ]
   },
   "outputs": [],
   "source": [
    "import random\n",
    "import numpy as np\n",
    "from cs231n.data_utils import load_CIFAR10\n",
    "import matplotlib.pyplot as plt\n",
    "\n",
    "%matplotlib inline\n",
    "plt.rcParams['figure.figsize'] = (8.0, 6.0) # set default size of plots\n",
    "plt.rcParams['image.interpolation'] = 'nearest'\n",
    "plt.rcParams['image.cmap'] = 'gray'\n",
    "\n",
    "# for auto-reloading extenrnal modules\n",
    "# see http://stackoverflow.com/questions/1907993/autoreload-of-modules-in-ipython\n",
    "%load_ext autoreload\n",
    "%autoreload 2"
   ]
  },
  {
   "cell_type": "code",
   "execution_count": 3,
   "id": "9e9bbbbe",
   "metadata": {
    "ExecuteTime": {
     "end_time": "2023-10-03T05:14:06.690623Z",
     "start_time": "2023-10-03T05:14:04.973031Z"
    },
    "tags": [
     "pdf-ignore"
    ]
   },
   "outputs": [
    {
     "name": "stdout",
     "output_type": "stream",
     "text": [
      "Train data shape:  (49000, 3073)\n",
      "Train labels shape:  (49000,)\n",
      "Validation data shape:  (1000, 3073)\n",
      "Validation labels shape:  (1000,)\n",
      "Test data shape:  (1000, 3073)\n",
      "Test labels shape:  (1000,)\n",
      "dev data shape:  (500, 3073)\n",
      "dev labels shape:  (500,)\n"
     ]
    }
   ],
   "source": [
    "def get_CIFAR10_data(num_training=49000, num_validation=1000, num_test=1000, num_dev=500):\n",
    "    \"\"\"\n",
    "    Load the CIFAR-10 dataset from disk and perform preprocessing to prepare\n",
    "    it for the linear classifier. These are the same steps as we used for the\n",
    "    SVM, but condensed to a single function.  \n",
    "    \"\"\"\n",
    "    # Load the raw CIFAR-10 data\n",
    "    cifar10_dir = 'cs231n/datasets/cifar-10-batches-py'\n",
    "    \n",
    "    # Cleaning up variables to prevent loading data multiple times (which may cause memory issue)\n",
    "    try:\n",
    "       del X_train, y_train\n",
    "       del X_test, y_test\n",
    "       print('Clear previously loaded data.')\n",
    "    except:\n",
    "       pass\n",
    "\n",
    "    X_train, y_train, X_test, y_test = load_CIFAR10(cifar10_dir)\n",
    "    \n",
    "    # subsample the data\n",
    "    mask = list(range(num_training, num_training + num_validation))\n",
    "    X_val = X_train[mask]\n",
    "    y_val = y_train[mask]\n",
    "    mask = list(range(num_training))\n",
    "    X_train = X_train[mask]\n",
    "    y_train = y_train[mask]\n",
    "    mask = list(range(num_test))\n",
    "    X_test = X_test[mask]\n",
    "    y_test = y_test[mask]\n",
    "    mask = np.random.choice(num_training, num_dev, replace=False)\n",
    "    X_dev = X_train[mask]\n",
    "    y_dev = y_train[mask]\n",
    "    \n",
    "    # Preprocessing: reshape the image data into rows\n",
    "    X_train = np.reshape(X_train, (X_train.shape[0], -1))\n",
    "    X_val = np.reshape(X_val, (X_val.shape[0], -1))\n",
    "    X_test = np.reshape(X_test, (X_test.shape[0], -1))\n",
    "    X_dev = np.reshape(X_dev, (X_dev.shape[0], -1))\n",
    "    \n",
    "    # Normalize the data: subtract the mean image\n",
    "    mean_image = np.mean(X_train, axis = 0)\n",
    "    X_train -= mean_image\n",
    "    X_val -= mean_image\n",
    "    X_test -= mean_image\n",
    "    X_dev -= mean_image\n",
    "    \n",
    "    # add bias dimension and transform into columns\n",
    "    X_train = np.hstack([X_train, np.ones((X_train.shape[0], 1))])\n",
    "    X_val = np.hstack([X_val, np.ones((X_val.shape[0], 1))])\n",
    "    X_test = np.hstack([X_test, np.ones((X_test.shape[0], 1))])\n",
    "    X_dev = np.hstack([X_dev, np.ones((X_dev.shape[0], 1))])\n",
    "    \n",
    "    return X_train, y_train, X_val, y_val, X_test, y_test, X_dev, y_dev\n",
    "\n",
    "\n",
    "# Invoke the above function to get our data.\n",
    "X_train, y_train, X_val, y_val, X_test, y_test, X_dev, y_dev = get_CIFAR10_data()\n",
    "print('Train data shape: ', X_train.shape)\n",
    "print('Train labels shape: ', y_train.shape)\n",
    "print('Validation data shape: ', X_val.shape)\n",
    "print('Validation labels shape: ', y_val.shape)\n",
    "print('Test data shape: ', X_test.shape)\n",
    "print('Test labels shape: ', y_test.shape)\n",
    "print('dev data shape: ', X_dev.shape)\n",
    "print('dev labels shape: ', y_dev.shape)"
   ]
  },
  {
   "cell_type": "markdown",
   "id": "d4c3fb04",
   "metadata": {},
   "source": [
    "## Softmax Classifier\n",
    "\n",
    "Your code for this section will all be written inside `cs231n/classifiers/softmax.py`.\n"
   ]
  },
  {
   "cell_type": "code",
   "execution_count": 4,
   "id": "25f2e5e1",
   "metadata": {
    "ExecuteTime": {
     "end_time": "2023-10-03T05:14:06.775278Z",
     "start_time": "2023-10-03T05:14:06.693411Z"
    }
   },
   "outputs": [
    {
     "name": "stdout",
     "output_type": "stream",
     "text": [
      "loss: 2.421227\n",
      "sanity check: 2.302585\n"
     ]
    }
   ],
   "source": [
    "# First implement the naive softmax loss function with nested loops.\n",
    "# Open the file cs231n/classifiers/softmax.py and implement the\n",
    "# softmax_loss_naive function.\n",
    "\n",
    "from cs231n.classifiers.softmax import softmax_loss_naive\n",
    "import time\n",
    "\n",
    "# Generate a random softmax weight matrix and use it to compute the loss.\n",
    "W = np.random.randn(3073, 10) * 0.0001\n",
    "loss, grad = softmax_loss_naive(W, X_dev, y_dev, 0.0)\n",
    "\n",
    "# As a rough sanity check, our loss should be something close to -log(0.1).\n",
    "print('loss: %f' % loss)\n",
    "print('sanity check: %f' % (-np.log(0.1)))"
   ]
  },
  {
   "cell_type": "markdown",
   "id": "15ebc638",
   "metadata": {
    "tags": [
     "pdf-inline"
    ]
   },
   "source": [
    "**Inline Question 1**\n",
    "\n",
    "Why do we expect our loss to be close to -log(0.1)? Explain briefly.**\n",
    "\n",
    "$\\color{blue}{\\textit Your Answer:}$\n",
    "$$Loss = -\\frac{1}{N}∑_{i=1}^Nlog\\frac{e^{S_{yi}}}{∑_je^S_j}$$\n",
    "当w初始化为均值为0的极小值时，scores也大约为0附件的很小的值，因此$$e^{s_j}≈1$$\n",
    "$$-\\frac{1}{N}∑_{i=1}^Nlog\\frac{e^{S_{yi}}}{∑_je^S_j}≈-\\frac{1}{N}*N*log\\frac{1}{C}≈-log\\frac{1}{10}$$\n"
   ]
  },
  {
   "cell_type": "code",
   "execution_count": 5,
   "id": "a8cb3eb1",
   "metadata": {
    "ExecuteTime": {
     "end_time": "2023-10-03T05:14:09.319698Z",
     "start_time": "2023-10-03T05:14:06.776673Z"
    }
   },
   "outputs": [
    {
     "name": "stdout",
     "output_type": "stream",
     "text": [
      "numerical: 1.394937 analytic: 1.394937, relative error: 6.166010e-08\n",
      "numerical: 1.371441 analytic: 1.371441, relative error: 1.219285e-08\n",
      "numerical: -1.676833 analytic: -1.676833, relative error: 4.208855e-09\n",
      "numerical: 0.512277 analytic: 0.512277, relative error: 1.368770e-07\n",
      "numerical: -0.005008 analytic: -0.005008, relative error: 1.665264e-06\n",
      "numerical: -0.881773 analytic: -0.881773, relative error: 5.467675e-08\n",
      "numerical: 0.933666 analytic: 0.933665, relative error: 9.209473e-08\n",
      "numerical: 0.709353 analytic: 0.709353, relative error: 1.318490e-08\n",
      "numerical: -1.388948 analytic: -1.388948, relative error: 8.664868e-09\n",
      "numerical: 0.150382 analytic: 0.150382, relative error: 3.607515e-08\n",
      "numerical: -0.896422 analytic: -0.896422, relative error: 3.628580e-08\n",
      "numerical: -1.765670 analytic: -1.765670, relative error: 6.207775e-09\n",
      "numerical: -0.354302 analytic: -0.354302, relative error: 7.265477e-08\n",
      "numerical: -0.494962 analytic: -0.494963, relative error: 1.128896e-07\n",
      "numerical: 0.540032 analytic: 0.540032, relative error: 4.676758e-08\n",
      "numerical: 3.114939 analytic: 3.114938, relative error: 1.408750e-08\n",
      "numerical: 0.823094 analytic: 0.823094, relative error: 1.044652e-07\n",
      "numerical: -0.055317 analytic: -0.055317, relative error: 1.950324e-06\n",
      "numerical: -3.242938 analytic: -3.242939, relative error: 1.348992e-08\n",
      "numerical: 2.525639 analytic: 2.525639, relative error: 2.446054e-08\n"
     ]
    }
   ],
   "source": [
    "# Complete the implementation of softmax_loss_naive and implement a (naive)\n",
    "# version of the gradient that uses nested loops.\n",
    "loss, grad = softmax_loss_naive(W, X_dev, y_dev, 0.0)\n",
    "\n",
    "# As we did for the SVM, use numeric gradient checking as a debugging tool.\n",
    "# The numeric gradient should be close to the analytic gradient.\n",
    "from cs231n.gradient_check import grad_check_sparse\n",
    "f = lambda w: softmax_loss_naive(w, X_dev, y_dev, 0.0)[0]\n",
    "grad_numerical = grad_check_sparse(f, W, grad, 10)\n",
    "\n",
    "# similar to SVM case, do another gradient check with regularization\n",
    "loss, grad = softmax_loss_naive(W, X_dev, y_dev, 5e1)\n",
    "f = lambda w: softmax_loss_naive(w, X_dev, y_dev, 5e1)[0]\n",
    "grad_numerical = grad_check_sparse(f, W, grad, 10)"
   ]
  },
  {
   "cell_type": "code",
   "execution_count": 6,
   "id": "4a4a81d4",
   "metadata": {
    "ExecuteTime": {
     "end_time": "2023-10-03T05:14:09.470124Z",
     "start_time": "2023-10-03T05:14:09.321788Z"
    }
   },
   "outputs": [
    {
     "name": "stdout",
     "output_type": "stream",
     "text": [
      "naive loss: 2.421227e+00 computed in 0.063115s\n",
      "vectorized loss: 2.421227e+00 computed in 0.065270s\n",
      "Loss difference: 0.000000\n",
      "Gradient difference: 0.000000\n"
     ]
    }
   ],
   "source": [
    "# Now that we have a naive implementation of the softmax loss function and its gradient,\n",
    "# implement a vectorized version in softmax_loss_vectorized.\n",
    "# The two versions should compute the same results, but the vectorized version should be\n",
    "# much faster.\n",
    "tic = time.time()\n",
    "loss_naive, grad_naive = softmax_loss_naive(W, X_dev, y_dev, 0.000005)\n",
    "toc = time.time()\n",
    "print('naive loss: %e computed in %fs' % (loss_naive, toc - tic))\n",
    "\n",
    "from cs231n.classifiers.softmax import softmax_loss_vectorized\n",
    "tic = time.time()\n",
    "loss_vectorized, grad_vectorized = softmax_loss_vectorized(W, X_dev, y_dev, 0.000005)\n",
    "toc = time.time()\n",
    "print('vectorized loss: %e computed in %fs' % (loss_vectorized, toc - tic))\n",
    "\n",
    "# As we did for the SVM, we use the Frobenius norm to compare the two versions\n",
    "# of the gradient.\n",
    "grad_difference = np.linalg.norm(grad_naive - grad_vectorized, ord='fro')\n",
    "print('Loss difference: %f' % np.abs(loss_naive - loss_vectorized))\n",
    "print('Gradient difference: %f' % grad_difference)"
   ]
  },
  {
   "cell_type": "code",
   "execution_count": null,
   "id": "a3453536",
   "metadata": {
    "ExecuteTime": {
     "start_time": "2023-10-03T05:14:04.307Z"
    },
    "tags": [
     "code"
    ],
    "test": "tuning"
   },
   "outputs": [
    {
     "name": "stdout",
     "output_type": "stream",
     "text": [
      "iteration 0 / 2000: loss 5.497876\n",
      "iteration 100 / 2000: loss 3.531283\n",
      "iteration 200 / 2000: loss 3.265861\n",
      "iteration 300 / 2000: loss 3.246736\n",
      "iteration 400 / 2000: loss 2.944879\n",
      "iteration 500 / 2000: loss 2.855321\n",
      "iteration 600 / 2000: loss 2.954015\n",
      "iteration 700 / 2000: loss 2.920780\n",
      "iteration 800 / 2000: loss 2.894346\n",
      "iteration 900 / 2000: loss 2.789576\n",
      "iteration 1000 / 2000: loss 2.892353\n",
      "iteration 1100 / 2000: loss 2.465013\n",
      "iteration 1200 / 2000: loss 2.369767\n",
      "iteration 1300 / 2000: loss 2.712411\n",
      "iteration 1400 / 2000: loss 2.414555\n",
      "iteration 1500 / 2000: loss 2.576364\n",
      "iteration 1600 / 2000: loss 2.524175\n",
      "iteration 1700 / 2000: loss 2.325411\n",
      "iteration 1800 / 2000: loss 2.466731\n",
      "iteration 1900 / 2000: loss 2.546545\n",
      "iteration 0 / 2000: loss 12.125510\n",
      "iteration 100 / 2000: loss 9.973650\n",
      "iteration 200 / 2000: loss 9.615809\n",
      "iteration 300 / 2000: loss 9.277883\n",
      "iteration 400 / 2000: loss 8.912798\n",
      "iteration 500 / 2000: loss 8.676704\n",
      "iteration 600 / 2000: loss 8.443298\n",
      "iteration 700 / 2000: loss 7.859856\n",
      "iteration 800 / 2000: loss 7.775313\n",
      "iteration 900 / 2000: loss 7.530211\n",
      "iteration 1000 / 2000: loss 7.506044\n",
      "iteration 1100 / 2000: loss 7.217330\n",
      "iteration 1200 / 2000: loss 7.127118\n",
      "iteration 1300 / 2000: loss 6.679294\n",
      "iteration 1400 / 2000: loss 6.733225\n",
      "iteration 1500 / 2000: loss 6.845774\n",
      "iteration 1600 / 2000: loss 6.495026\n",
      "iteration 1700 / 2000: loss 6.175410\n",
      "iteration 1800 / 2000: loss 6.150203\n",
      "iteration 1900 / 2000: loss 5.866688\n",
      "iteration 0 / 2000: loss 18.933571\n",
      "iteration 100 / 2000: loss 16.515664\n",
      "iteration 200 / 2000: loss 15.112473\n",
      "iteration 300 / 2000: loss 14.191994\n",
      "iteration 400 / 2000: loss 13.419989\n",
      "iteration 500 / 2000: loss 13.121077\n",
      "iteration 600 / 2000: loss 12.133731\n",
      "iteration 700 / 2000: loss 11.581446\n",
      "iteration 800 / 2000: loss 11.112543\n",
      "iteration 900 / 2000: loss 10.515096\n",
      "iteration 1000 / 2000: loss 9.988975\n",
      "iteration 1100 / 2000: loss 9.638121\n",
      "iteration 1200 / 2000: loss 9.278361\n",
      "iteration 1300 / 2000: loss 8.737283\n",
      "iteration 1400 / 2000: loss 8.225915\n",
      "iteration 1500 / 2000: loss 8.094601\n",
      "iteration 1600 / 2000: loss 7.583469\n",
      "iteration 1700 / 2000: loss 7.271822\n",
      "iteration 1800 / 2000: loss 6.771814\n",
      "iteration 1900 / 2000: loss 6.723610\n",
      "iteration 0 / 2000: loss 26.470474\n",
      "iteration 100 / 2000: loss 22.264442\n",
      "iteration 200 / 2000: loss 20.082069\n",
      "iteration 300 / 2000: loss 18.456743\n",
      "iteration 400 / 2000: loss 16.986247\n",
      "iteration 500 / 2000: loss 15.752629\n",
      "iteration 600 / 2000: loss 14.649319\n",
      "iteration 700 / 2000: loss 13.614949\n",
      "iteration 800 / 2000: loss 12.704882\n",
      "iteration 900 / 2000: loss 11.750920\n",
      "iteration 1000 / 2000: loss 11.124119\n",
      "iteration 1100 / 2000: loss 10.234938\n",
      "iteration 1200 / 2000: loss 9.445353\n",
      "iteration 1300 / 2000: loss 8.787274\n",
      "iteration 1400 / 2000: loss 8.374567\n",
      "iteration 1500 / 2000: loss 7.811152\n",
      "iteration 1600 / 2000: loss 7.397570\n",
      "iteration 1700 / 2000: loss 6.896754\n",
      "iteration 1800 / 2000: loss 6.441576\n",
      "iteration 1900 / 2000: loss 6.102292\n",
      "iteration 0 / 2000: loss 32.261037\n",
      "iteration 100 / 2000: loss 27.470165\n",
      "iteration 200 / 2000: loss 24.681151\n",
      "iteration 300 / 2000: loss 22.117680\n",
      "iteration 400 / 2000: loss 19.989438\n",
      "iteration 500 / 2000: loss 17.996910\n",
      "iteration 600 / 2000: loss 16.313772\n",
      "iteration 700 / 2000: loss 14.826861\n",
      "iteration 800 / 2000: loss 13.298932\n",
      "iteration 900 / 2000: loss 12.107955\n",
      "iteration 1000 / 2000: loss 11.040132\n",
      "iteration 1100 / 2000: loss 10.198703\n",
      "iteration 1200 / 2000: loss 9.203580\n",
      "iteration 1300 / 2000: loss 8.323570\n",
      "iteration 1400 / 2000: loss 7.707612\n",
      "iteration 1500 / 2000: loss 7.123826\n",
      "iteration 1600 / 2000: loss 6.572518\n",
      "iteration 1700 / 2000: loss 6.124187\n",
      "iteration 1800 / 2000: loss 5.617528\n",
      "iteration 1900 / 2000: loss 5.144097\n",
      "iteration 0 / 2000: loss 40.061960\n",
      "iteration 100 / 2000: loss 33.418458\n",
      "iteration 200 / 2000: loss 28.996114\n",
      "iteration 300 / 2000: loss 25.341632\n",
      "iteration 400 / 2000: loss 22.190354\n",
      "iteration 500 / 2000: loss 19.696030\n"
     ]
    }
   ],
   "source": [
    "# Use the validation set to tune hyperparameters (regularization strength and\n",
    "# learning rate). You should experiment with different ranges for the learning\n",
    "# rates and regularization strengths; if you are careful you should be able to\n",
    "# get a classification accuracy of over 0.35 on the validation set.\n",
    "\n",
    "from cs231n.classifiers import Softmax\n",
    "results = {}\n",
    "best_val = -1\n",
    "best_softmax = None\n",
    "\n",
    "################################################################################\n",
    "# TODO:                                                                        #\n",
    "# Use the validation set to set the learning rate and regularization strength. #\n",
    "# This should be identical to the validation that you did for the SVM; save    #\n",
    "# the best trained softmax classifer in best_softmax.                          #\n",
    "################################################################################\n",
    "\n",
    "# *****START OF YOUR CODE (DO NOT DELETE/MODIFY THIS LINE)*****\n",
    "##################################\n",
    "# rk's remark:                   #\n",
    "#          random search         #\n",
    "##################################\n",
    "\n",
    "# sample learning_rates\n",
    "exp_lr = -10 * np.random.rand(10)\n",
    "learning_rates = np.power(10, exp_lr)\n",
    "\n",
    "# sample regs\n",
    "exp_reg = 7 * np.random.rand(10)\n",
    "reg_strengths = np.power(10, exp_reg)\n",
    "para_group = [(np.random.choice(learning_rates, replace=False), \n",
    "               np.random.choice(reg_strengths, replace=False)) for _ in range(20)]\n",
    "\n",
    "###  comment out after try out coarse grid\n",
    "# for lr, reg in para_group:\n",
    "#     softmax = Softmax()\n",
    "#     loss_history = softmax.train(X_train, y_train, learning_rate=lr, reg=reg,\n",
    "#                                  num_iters=2000, verbose=True)\n",
    "#     y_train_pred = softmax.predict(X_train)\n",
    "#     train_acc = np.sum((y_train_pred == y_train)) / y_train.shape[0]\n",
    "#     y_val_pred = softmax.predict(X_val)\n",
    "#     val_acc = np.sum((y_val_pred == y_val)) / y_val.shape[0]\n",
    "#     if(val_acc > best_val):\n",
    "#         best_val=val_acc\n",
    "#         best_softmax=softmax\n",
    "#     results[(lr,reg)]=(train_acc,val_acc)\n",
    "###  best result from coarse grid: \n",
    "###  => best validation accuracy achieved during cross-validation: 0.416000\n",
    "\n",
    "### refine grid\n",
    "lr_fine = [3e-7, 2e-6]\n",
    "reg_fine = [1e1, 2e3]\n",
    "\n",
    "for lr in np.linspace(lr_fine[0], lr_fine[1], 10):\n",
    "    for reg in np.linspace(reg_fine[0], reg_fine[1], 10):\n",
    "        softmax = Softmax()\n",
    "        loss_history = softmax.train(X_train, y_train, learning_rate=lr, reg=reg,\n",
    "                                     num_iters=2000, verbose=True)\n",
    "        y_train_pred = softmax.predict(X_train)\n",
    "        train_acc = np.sum((y_train_pred == y_train)) / y_train.shape[0]\n",
    "        y_val_pred = softmax.predict(X_val)\n",
    "        val_acc = np.sum((y_val_pred == y_val)) / y_val.shape[0]\n",
    "        if(val_acc > best_val):\n",
    "            best_val=val_acc\n",
    "            best_softmax=softmax\n",
    "    results[(lr,reg)]=(train_acc,val_acc)\n",
    "# *****END OF YOUR CODE (DO NOT DELETE/MODIFY THIS LINE)*****\n",
    "    \n",
    "# Print out results.\n",
    "for lr, reg in sorted(results):\n",
    "    train_accuracy, val_accuracy = results[(lr, reg)]\n",
    "    print('lr %e reg %e train accuracy: %f val accuracy: %f' % (\n",
    "                lr, reg, train_accuracy, val_accuracy))\n",
    "    \n",
    "print('best validation accuracy achieved during cross-validation: %f' % best_val)"
   ]
  },
  {
   "cell_type": "code",
   "execution_count": null,
   "id": "8a1f9db3",
   "metadata": {
    "ExecuteTime": {
     "start_time": "2023-10-03T05:14:04.308Z"
    },
    "test": "test"
   },
   "outputs": [],
   "source": [
    "# evaluate on test set\n",
    "# Evaluate the best softmax on test set\n",
    "y_test_pred = best_softmax.predict(X_test)\n",
    "test_accuracy = np.mean(y_test == y_test_pred)\n",
    "print('softmax on raw pixels final test set accuracy: %f' % (test_accuracy, ))"
   ]
  },
  {
   "cell_type": "markdown",
   "id": "86b9b65c",
   "metadata": {
    "tags": [
     "pdf-inline"
    ]
   },
   "source": [
    "**Inline Question 2** - *True or False*\n",
    "\n",
    "Suppose the overall training loss is defined as the sum of the per-datapoint loss over all training examples. It is possible to add a new datapoint to a training set that would leave the SVM loss unchanged, but this is not the case with the Softmax classifier loss.\n",
    "\n",
    "$\\color{blue}{\\textit Your Answer:}$\n",
    "\n",
    "\n",
    "$\\color{blue}{\\textit Your Explanation:}$\n",
    "\n"
   ]
  },
  {
   "cell_type": "code",
   "execution_count": null,
   "id": "009f08b9",
   "metadata": {
    "ExecuteTime": {
     "start_time": "2023-10-03T05:14:04.309Z"
    }
   },
   "outputs": [],
   "source": [
    "# Visualize the learned weights for each class\n",
    "w = best_softmax.W[:-1,:] # strip out the bias\n",
    "w = w.reshape(32, 32, 3, 10)\n",
    "\n",
    "w_min, w_max = np.min(w), np.max(w)\n",
    "\n",
    "classes = ['plane', 'car', 'bird', 'cat', 'deer', 'dog', 'frog', 'horse', 'ship', 'truck']\n",
    "for i in range(10):\n",
    "    plt.subplot(2, 5, i + 1)\n",
    "    \n",
    "    # Rescale the weights to be between 0 and 255\n",
    "    wimg = 255.0 * (w[:, :, :, i].squeeze() - w_min) / (w_max - w_min)\n",
    "    plt.imshow(wimg.astype('uint8'))\n",
    "    plt.axis('off')\n",
    "    plt.title(classes[i])"
   ]
  },
  {
   "cell_type": "code",
   "execution_count": null,
   "id": "3569b36b",
   "metadata": {},
   "outputs": [],
   "source": []
  }
 ],
 "metadata": {
  "kernelspec": {
   "display_name": "Python 3 (ipykernel)",
   "language": "python",
   "name": "python3"
  },
  "language_info": {
   "codemirror_mode": {
    "name": "ipython",
    "version": 3
   },
   "file_extension": ".py",
   "mimetype": "text/x-python",
   "name": "python",
   "nbconvert_exporter": "python",
   "pygments_lexer": "ipython3",
   "version": "3.10.12"
  }
 },
 "nbformat": 4,
 "nbformat_minor": 5
}
